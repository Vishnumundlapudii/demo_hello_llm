{
 "cells": [
  {
   "cell_type": "markdown",
   "metadata": {},
   "source": [
    "# E2E Networks LLM - Step by Step Tutorial\n",
    "\n",
    "This notebook explains step-by-step how to:\n",
    "1. **Setup Environment** and load credentials\n",
    "2. **Initialize LLM Connection** \n",
    "3. **Make LLM Calls** with requests\n",
    "4. **Handle and Display Responses**\n",
    "\n",
    "---"
   ]
  },
  {
   "cell_type": "markdown",
   "metadata": {},
   "source": [
    "## Step 1: Import Libraries and Setup Environment"
   ]
  },
  {
   "cell_type": "code",
   "execution_count": null,
   "metadata": {},
   "outputs": [],
   "source": [
    "# Import required libraries\n",
    "import os\n",
    "import requests\n",
    "import json\n",
    "from dotenv import load_dotenv\n",
    "\n",
    "print(\"✅ Libraries imported successfully!\")"
   ]
  },
  {
   "cell_type": "code",
   "execution_count": null,
   "metadata": {},
   "outputs": [],
   "source": [
    "# Load environment variables from .env file\n",
    "load_dotenv()\n",
    "\n",
    "print(\"✅ Environment variables loaded!\")"
   ]
  },
  {
   "cell_type": "markdown",
   "metadata": {},
   "source": [
    "## Step 2: Load E2E Networks Credentials"
   ]
  },
  {
   "cell_type": "code",
   "execution_count": null,
   "metadata": {},
   "outputs": [],
   "source": [
    "# Get E2E Networks endpoint URL and API key\n",
    "endpoint_url = os.getenv(\"E2E_ENDPOINT_URL\")\n",
    "api_key = os.getenv(\"E2E_API_KEY\")\n",
    "\n",
    "print(f\"Endpoint URL: {endpoint_url}\")\n",
    "print(f\"API Key: {'*' * 20}...{api_key[-10:] if api_key else 'Not found'}\")"
   ]
  },
  {
   "cell_type": "markdown",
   "metadata": {},
   "source": [
    "## Step 3: Setup LLM Configuration Parameters"
   ]
  },
  {
   "cell_type": "code",
   "execution_count": null,
   "metadata": {},
   "outputs": [],
   "source": [
    "# Configure LLM parameters\n",
    "model_name = \"meta-llama/Meta-Llama-3.1-8B-Instruct\"\n",
    "temperature = 0.7  # Controls creativity (0.0 = deterministic, 1.0 = creative)\n",
    "max_tokens = 500   # Maximum response length\n",
    "\n",
    "print(f\"Model: {model_name}\")\n",
    "print(f\"Temperature: {temperature}\")\n",
    "print(f\"Max Tokens: {max_tokens}\")\n",
    "print(\"\\n✅ LLM parameters configured!\")"
   ]
  },
  {
   "cell_type": "markdown",
   "metadata": {},
   "source": [
    "## Step 4: Create Function to Call E2E Networks LLM"
   ]
  },
  {
   "cell_type": "code",
   "execution_count": null,
   "metadata": {},
   "outputs": [],
   "source": [
    "def call_e2e_llm(prompt):\n",
    "    \"\"\"Function to call E2E Networks LLM with a prompt\"\"\"\n",
    "    \n",
    "    print(f\"📝 Sending prompt: {prompt[:50]}...\")\n",
    "    \n",
    "    # Prepare headers for authentication\n",
    "    headers = {\n",
    "        \"Content-Type\": \"application/json\",\n",
    "        \"Authorization\": f\"Bearer {api_key}\"\n",
    "    }\n",
    "    \n",
    "    # Prepare request payload in OpenAI format\n",
    "    payload = {\n",
    "        \"model\": model_name,\n",
    "        \"messages\": [\n",
    "            {\"role\": \"user\", \"content\": prompt}\n",
    "        ],\n",
    "        \"temperature\": temperature,\n",
    "        \"max_tokens\": max_tokens\n",
    "    }\n",
    "    \n",
    "    # Ensure endpoint has correct path\n",
    "    full_endpoint = endpoint_url\n",
    "    if not full_endpoint.endswith(\"chat/completions\"):\n",
    "        full_endpoint = full_endpoint.rstrip(\"/\") + \"/chat/completions\"\n",
    "    \n",
    "    print(f\"🌐 Calling API: {full_endpoint}\")\n",
    "    \n",
    "    try:\n",
    "        # Make the API call\n",
    "        response = requests.post(\n",
    "            full_endpoint,\n",
    "            headers=headers,\n",
    "            json=payload,\n",
    "            timeout=30\n",
    "        )\n",
    "        \n",
    "        # Check if request was successful\n",
    "        response.raise_for_status()\n",
    "        \n",
    "        # Parse JSON response\n",
    "        result = response.json()\n",
    "        \n",
    "        print(\"✅ Response received successfully!\")\n",
    "        return result\n",
    "        \n",
    "    except Exception as e:\n",
    "        print(f\"❌ Error: {str(e)}\")\n",
    "        return None\n",
    "\n",
    "print(\"✅ LLM calling function created!\")"
   ]
  },
  {
   "cell_type": "markdown",
   "metadata": {},
   "source": [
    "## Step 5: Extract Response Content"
   ]
  },
  {
   "cell_type": "code",
   "execution_count": null,
   "metadata": {},
   "outputs": [],
   "source": [
    "def extract_response_content(api_response):\n",
    "    \"\"\"Extract the actual text response from API response\"\"\"\n",
    "    \n",
    "    if api_response is None:\n",
    "        return \"No response received\"\n",
    "    \n",
    "    try:\n",
    "        # Extract content from OpenAI-compatible response format\n",
    "        content = api_response[\"choices\"][0][\"message\"][\"content\"]\n",
    "        print(f\"📄 Response length: {len(content)} characters\")\n",
    "        return content\n",
    "        \n",
    "    except KeyError as e:\n",
    "        print(f\"❌ Error extracting content: {e}\")\n",
    "        return f\"Error extracting response: {e}\"\n",
    "\n",
    "print(\"✅ Response extraction function created!\")"
   ]
  },
  {
   "cell_type": "markdown",
   "metadata": {},
   "source": [
    "## Step 6: Test the LLM - First Example"
   ]
  },
  {
   "cell_type": "code",
   "execution_count": null,
   "metadata": {},
   "outputs": [],
   "source": [
    "# Test with a simple question\n",
    "prompt1 = \"What is Python programming language?\"\n",
    "\n",
    "print(f\"Question: {prompt1}\")\n",
    "print(\"\\n\" + \"=\"*50)\n",
    "\n",
    "# Step 1: Call the LLM\n",
    "api_response1 = call_e2e_llm(prompt1)\n",
    "\n",
    "print(\"\\n\" + \"-\"*30)\n",
    "\n",
    "# Step 2: Extract the content\n",
    "response_text1 = extract_response_content(api_response1)\n",
    "\n",
    "print(\"\\n\" + \"=\"*50)\n",
    "print(\"🤖 LLM Response:\")\n",
    "print(response_text1)"
   ]
  },
  {
   "cell_type": "markdown",
   "metadata": {},
   "source": [
    "## Step 7: Test the LLM - Code Generation Example"
   ]
  },
  {
   "cell_type": "code",
   "execution_count": null,
   "metadata": {},
   "outputs": [],
   "source": [
    "# Test with code generation\n",
    "prompt2 = \"Write a Python function to calculate factorial of a number\"\n",
    "\n",
    "print(f\"Question: {prompt2}\")\n",
    "print(\"\\n\" + \"=\"*50)\n",
    "\n",
    "# Call LLM and extract response\n",
    "api_response2 = call_e2e_llm(prompt2)\n",
    "response_text2 = extract_response_content(api_response2)\n",
    "\n",
    "print(\"\\n\" + \"=\"*50)\n",
    "print(\"🤖 LLM Response:\")\n",
    "print(response_text2)"
   ]
  },
  {
   "cell_type": "markdown",
   "metadata": {},
   "source": [
    "## Step 8: Test the LLM - Technical Explanation"
   ]
  },
  {
   "cell_type": "code",
   "execution_count": null,
   "metadata": {},
   "outputs": [],
   "source": [
    "# Test with technical explanation\n",
    "prompt3 = \"Explain what APIs are and how they work in simple terms\"\n",
    "\n",
    "print(f\"Question: {prompt3}\")\n",
    "print(\"\\n\" + \"=\"*50)\n",
    "\n",
    "# Call LLM and extract response\n",
    "api_response3 = call_e2e_llm(prompt3)\n",
    "response_text3 = extract_response_content(api_response3)\n",
    "\n",
    "print(\"\\n\" + \"=\"*50)\n",
    "print(\"🤖 LLM Response:\")\n",
    "print(response_text3)"
   ]
  },
  {
   "cell_type": "markdown",
   "metadata": {},
   "source": [
    "## Step 9: Try Your Own Prompt"
   ]
  },
  {
   "cell_type": "code",
   "execution_count": null,
   "metadata": {},
   "outputs": [],
   "source": [
    "# Enter your own prompt here\n",
    "your_prompt = \"Explain machine learning in simple terms\"\n",
    "\n",
    "print(f\"Your Question: {your_prompt}\")\n",
    "print(\"\\n\" + \"=\"*50)\n",
    "\n",
    "# Call LLM and get response\n",
    "your_api_response = call_e2e_llm(your_prompt)\n",
    "your_response_text = extract_response_content(your_api_response)\n",
    "\n",
    "print(\"\\n\" + \"=\"*50)\n",
    "print(\"🤖 LLM Response:\")\n",
    "print(your_response_text)"
   ]
  },
  {
   "cell_type": "markdown",
   "metadata": {},
   "source": [
    "## Step 10: View Raw API Response (Optional)"
   ]
  },
  {
   "cell_type": "code",
   "execution_count": null,
   "metadata": {},
   "outputs": [],
   "source": [
    "# Let's see what the raw API response looks like\n",
    "print(\"🔍 Raw API Response Structure:\")\n",
    "print(\"=\"*40)\n",
    "\n",
    "if api_response1:\n",
    "    print(json.dumps(api_response1, indent=2)[:500] + \"...\")\n",
    "else:\n",
    "    print(\"No response to display\")"
   ]
  },
  {
   "cell_type": "markdown",
   "metadata": {},
   "source": [
    "---\n",
    "\n",
    "## Summary\n",
    "\n",
    "You have successfully learned:\n",
    "\n",
    "1. ✅ **Environment Setup** - Loading credentials from .env file\n",
    "2. ✅ **LLM Configuration** - Setting model parameters\n",
    "3. ✅ **API Calling** - Making requests to E2E Networks\n",
    "4. ✅ **Response Handling** - Extracting and displaying responses\n",
    "5. ✅ **Testing** - Multiple examples with different types of prompts\n",
    "\n",
    "**Key Components:**\n",
    "- `call_e2e_llm()` - Main function to call the LLM\n",
    "- `extract_response_content()` - Function to get text from API response\n",
    "- Proper error handling and response formatting\n",
    "\n",
    "You can now integrate these functions into your applications!"
   ]
  }
 ],
 "metadata": {
  "kernelspec": {
   "display_name": "Python 3",
   "language": "python",
   "name": "python3"
  },
  "language_info": {
   "codemirror_mode": {
    "name": "ipython",
    "version": 3
   },
   "file_extension": ".py",
   "mimetype": "text/x-python",
   "name": "python",
   "nbconvert_exporter": "python",
   "pygments_lexer": "ipython3",
   "version": "3.10.0"
  }
 },
 "nbformat": 4,
 "nbformat_minor": 4
}